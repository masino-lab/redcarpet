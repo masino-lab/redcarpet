{
 "cells": [
  {
   "cell_type": "markdown",
   "metadata": {},
   "source": [
    "# Post data munging\n",
    "\n",
    "This code converts data produced by the redcarpet project into the format expected by the R code to produce visualizations."
   ]
  },
  {
   "cell_type": "code",
   "execution_count": 9,
   "metadata": {},
   "outputs": [],
   "source": [
    "import operator"
   ]
  },
  {
   "cell_type": "code",
   "execution_count": 19,
   "metadata": {},
   "outputs": [],
   "source": [
    "file_annotations = '../data/processed/annotations_rolled.txt'\n",
    "file_person_visits = '../data/raw/person_visits.txt'\n",
    "file_R_input = '../data/external/pc_conditions_rolled.csv'"
   ]
  },
  {
   "cell_type": "code",
   "execution_count": 14,
   "metadata": {},
   "outputs": [],
   "source": [
    "# load person visit data\n",
    "# we will need an inverted visit -> person dict to generate R formatted data\n",
    "# person_visit file row format\n",
    "# pid: vid,age_days:vid,age_days: ...\n",
    "# 4980737:92023241,3310:92023241,3310:101063296,4397:102996382,4573:105982092,4956:158168519,6046\n",
    "visit_persons = {}\n",
    "with open(file_person_visits, 'r') as f:\n",
    "    for line in f.readlines():\n",
    "        data = line.split(\":\")\n",
    "        pid = int(data[0].strip())\n",
    "        for vdata in data[1:]:\n",
    "            vid,age_days = [int(x.strip()) for x in vdata.split(\",\")]\n",
    "            visit_persons[vid] = [pid,age_days]"
   ]
  },
  {
   "cell_type": "code",
   "execution_count": 15,
   "metadata": {},
   "outputs": [],
   "source": [
    "annotations = []\n",
    "with open(file_annotations, 'r') as f:\n",
    "    for line in f.readlines():\n",
    "        data = line.split(\":\")\n",
    "        cid = int(data[0].strip())\n",
    "        for v in data[1].split(\",\"):\n",
    "            vid = int(v.strip())\n",
    "            pid,age_days = visit_persons[vid]\n",
    "            annotations.append([pid,vid,age_days,cid])"
   ]
  },
  {
   "cell_type": "code",
   "execution_count": 16,
   "metadata": {},
   "outputs": [
    {
     "data": {
      "text/plain": [
       "14920325"
      ]
     },
     "execution_count": 16,
     "metadata": {},
     "output_type": "execute_result"
    }
   ],
   "source": [
    "len(annotations)"
   ]
  },
  {
   "cell_type": "code",
   "execution_count": 17,
   "metadata": {},
   "outputs": [],
   "source": [
    "# sort by person, then vist\n",
    "annotations.sort(key=operator.itemgetter(0,2))"
   ]
  },
  {
   "cell_type": "code",
   "execution_count": 24,
   "metadata": {},
   "outputs": [],
   "source": [
    "# store file for R analysis\n",
    "with open(file_R_input, 'a+') as f:\n",
    "    f.write(\"person_id,visit_occurrence_id,condition_concept_id\")\n",
    "    for l in annotations:\n",
    "        line = \"\\n{0},{1},{2}\".format(l[0],l[1],l[3])\n",
    "        f.write(line)"
   ]
  },
  {
   "cell_type": "code",
   "execution_count": null,
   "metadata": {},
   "outputs": [],
   "source": []
  }
 ],
 "metadata": {
  "kernelspec": {
   "display_name": "Python 3",
   "language": "python",
   "name": "python3"
  },
  "language_info": {
   "codemirror_mode": {
    "name": "ipython",
    "version": 3
   },
   "file_extension": ".py",
   "mimetype": "text/x-python",
   "name": "python",
   "nbconvert_exporter": "python",
   "pygments_lexer": "ipython3",
   "version": "3.6.3"
  }
 },
 "nbformat": 4,
 "nbformat_minor": 2
}
